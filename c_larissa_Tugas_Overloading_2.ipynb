{
  "nbformat": 4,
  "nbformat_minor": 0,
  "metadata": {
    "colab": {
      "provenance": [],
      "include_colab_link": true
    },
    "kernelspec": {
      "name": "python3",
      "display_name": "Python 3"
    },
    "language_info": {
      "name": "python"
    }
  },
  "cells": [
    {
      "cell_type": "markdown",
      "metadata": {
        "id": "view-in-github",
        "colab_type": "text"
      },
      "source": [
        "<a href=\"https://colab.research.google.com/github/clarissawulandari/overriding/blob/main/c_larissa_Tugas_Overloading_2.ipynb\" target=\"_parent\"><img src=\"https://colab.research.google.com/assets/colab-badge.svg\" alt=\"Open In Colab\"/></a>"
      ]
    },
    {
      "cell_type": "code",
      "execution_count": 4,
      "metadata": {
        "id": "5zCytCeM1uD4"
      },
      "outputs": [],
      "source": [
        "class nama:\n",
        "  def hasil(self, num1=\" \", num2=\" \", num3=\" \", num4=\" \"):\n",
        "    print(num1 + num2 + num3 + num4)\n",
        "#Buat fungsi yang digunakan untuk mengabungkan nama dengan ketentuan nama depan, nama tengah, nama akhir, dan seterusnya dianggap 1 (satu) parameter"
      ]
    },
    {
      "cell_type": "code",
      "source": [
        "coba = nama()\n",
        "\n",
        "coba.hasil(\"clarissa \", \"wulan\", \"dari\")\n",
        "coba.hasil(\"dinda \", \"ayu \", \"rahma \", \"maulidya\")\n",
        "coba.hasil(\"anisa \", \"yaffa \", \"zafirah\")\n",
        "coba.hasil(\"anila \", \"yaffa \", \"zafirah\")\n",
        "#Panggil fungsi untuk membuat nama lengkap 4 nama teman kalian"
      ],
      "metadata": {
        "id": "liQBcJWZ12MN",
        "colab": {
          "base_uri": "https://localhost:8080/"
        },
        "outputId": "dcb0fee5-f64c-43b2-dd6f-b3a78ad91765"
      },
      "execution_count": 8,
      "outputs": [
        {
          "output_type": "stream",
          "name": "stdout",
          "text": [
            "clarissa wulandari \n",
            "dinda ayu rahma maulidya\n",
            "anisa yaffa zafirah \n",
            "anila yaffa zafirah \n"
          ]
        }
      ]
    },
    {
      "cell_type": "code",
      "source": [
        "Materi overloading saat ini, menurut saya bisa membuat method dengan banyak parameter atau variasi parameter. kita bisa menggunakan 2 trik macam yaitu menggunakan variabel * args dan default parameter."
      ],
      "metadata": {
        "colab": {
          "base_uri": "https://localhost:8080/",
          "height": 181
        },
        "id": "ra5Q8zwRkO7V",
        "outputId": "881dd731-3abd-421b-bde6-3606640fe95c"
      },
      "execution_count": 9,
      "outputs": [
        {
          "output_type": "error",
          "ename": "SyntaxError",
          "evalue": "ignored",
          "traceback": [
            "\u001b[0;36m  File \u001b[0;32m\"<ipython-input-9-4c1edc788c83>\"\u001b[0;36m, line \u001b[0;32m1\u001b[0m\n\u001b[0;31m    Materi overloading saat ini, menurut saya bisa membuat method dengan banyak parameter atau variasi parameter. kita bisa menggunakan 2 trik macam yaitu menggunakan variabel * args dan default parameter.\u001b[0m\n\u001b[0m           ^\u001b[0m\n\u001b[0;31mSyntaxError\u001b[0m\u001b[0;31m:\u001b[0m invalid syntax\n"
          ]
        }
      ]
    },
    {
      "cell_type": "code",
      "source": [],
      "metadata": {
        "id": "xwFmppIG3JGE"
      },
      "execution_count": null,
      "outputs": []
    }
  ]
}