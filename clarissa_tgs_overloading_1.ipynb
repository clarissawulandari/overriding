{
  "nbformat": 4,
  "nbformat_minor": 0,
  "metadata": {
    "colab": {
      "provenance": [],
      "include_colab_link": true
    },
    "kernelspec": {
      "name": "python3",
      "display_name": "Python 3"
    },
    "language_info": {
      "name": "python"
    }
  },
  "cells": [
    {
      "cell_type": "markdown",
      "metadata": {
        "id": "view-in-github",
        "colab_type": "text"
      },
      "source": [
        "<a href=\"https://colab.research.google.com/github/clarissawulandari/overriding/blob/main/clarissa_tgs_overloading_1.ipynb\" target=\"_parent\"><img src=\"https://colab.research.google.com/assets/colab-badge.svg\" alt=\"Open In Colab\"/></a>"
      ]
    },
    {
      "cell_type": "code",
      "execution_count": 2,
      "metadata": {
        "id": "cytAUNWzM1-6"
      },
      "outputs": [],
      "source": [
        "#Buat Perkalian yang memiliki Sebuah fungsi dangan nama Hitung\n",
        "#method hasil() dengan variasi parameter\n",
        "class Perkalian:\n",
        "  def hitung(self, *args):\n",
        "    sum = 1\n",
        "    for num in args:\n",
        "        sum += num\n",
        "    print (sum)\n"
      ]
    },
    {
      "cell_type": "code",
      "source": [
        "#Buat main program\n",
        "c = Perkalian()\n",
        "#Panggil fungsi Hitung untuk menghitung 2 parameter\n",
        "c.hitung(1303, 2006)\n",
        "#Panggil fungsi Hitung untuk menghitung 3 parameter\n",
        "c.hitung(4876, 2341, 7654)\n",
        "#Panggil fungsi Hitung untuk menghitung 4 parameter\n",
        "c.hitung(3456, 9876, 2778, 3764)"
      ],
      "metadata": {
        "id": "W9hN-kX7PDUI",
        "colab": {
          "base_uri": "https://localhost:8080/"
        },
        "outputId": "a20eace3-e8a9-4e91-faf1-74c1d36dcaca"
      },
      "execution_count": 3,
      "outputs": [
        {
          "output_type": "stream",
          "name": "stdout",
          "text": [
            "3310\n",
            "14872\n",
            "19875\n"
          ]
        }
      ]
    }
  ]
}